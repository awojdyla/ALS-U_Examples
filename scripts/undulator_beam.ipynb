{
 "cells": [
  {
   "cell_type": "markdown",
   "metadata": {},
   "source": [
    "# Beam size, divergence and coherent fraction"
   ]
  },
  {
   "cell_type": "code",
   "execution_count": 1,
   "metadata": {
    "collapsed": false
   },
   "outputs": [],
   "source": [
    "import numpy\n",
    "from scipy.constants import c, e, h, pi\n",
    "from numpy import sqrt, exp\n",
    "from scipy.special import erf\n",
    "import matplotlib.pyplot as plt"
   ]
  },
  {
   "cell_type": "code",
   "execution_count": 126,
   "metadata": {
    "collapsed": true
   },
   "outputs": [],
   "source": [
    "# electron beam properties (ALS-U)\n",
    "lightsource_name = \"ALS-U\"\n",
    "sex_m = 12.12e-6\n",
    "sey_m = 14.73e-6\n",
    "sexp_rad = 5.7e-6\n",
    "seyp_rad = 4.7e-6\n",
    "\n",
    "# fractional energy spread\n",
    "se = 0.00102 # ALS-U (from E Wallen)"
   ]
  },
  {
   "cell_type": "code",
   "execution_count": 43,
   "metadata": {
    "collapsed": true
   },
   "outputs": [],
   "source": [
    "# electron beam properties (ALS)\n",
    "lightsource_name = \"ALS\"\n",
    "sex_m = 251e-6\n",
    "sey_m = 8.3e-6\n",
    "sexp_rad = 9.7e-6\n",
    "seyp_rad = 4.8e-6\n",
    "\n",
    "se = 0.95e-3  # ALS (from CDR ID beamline)"
   ]
  },
  {
   "cell_type": "code",
   "execution_count": 35,
   "metadata": {
    "collapsed": true
   },
   "outputs": [],
   "source": [
    "# undulator properties (COSMIC)\n",
    "undulator_name = \"COSMIC\"\n",
    "# m is harmonic number\n",
    "m = 1\n",
    "# N is number of periods\n",
    "N = 54\n",
    "# undulator_period_m = = 38e-3\n",
    "undulator_L_m = 2.052"
   ]
  },
  {
   "cell_type": "code",
   "execution_count": 26,
   "metadata": {
    "collapsed": true
   },
   "outputs": [],
   "source": [
    "# undulator properties (QERLIN)\n",
    "undulator_name = \"QERLIN\"\n",
    "# m is harmonic number\n",
    "m = 1\n",
    "# N is number of periods\n",
    "N = 52.5\n",
    "# undulator_period_m = = 38e-3\n",
    "undulator_L_m = 1.838"
   ]
  },
  {
   "cell_type": "code",
   "execution_count": 127,
   "metadata": {
    "collapsed": false
   },
   "outputs": [],
   "source": [
    "# Compute beam size\n",
    "ph_energy_eV = numpy.arange(30, 2500, 1)\n",
    "wavelength_m = (h*c/e)/ph_energy_eV\n",
    "\n",
    "# electron dispersion contribution\n",
    "#x = 2*pi*m*N*se\n",
    "Qa = lambda x: sqrt(2*x**2/(exp(-2*x**2)+sqrt(2*pi)*x*erf(sqrt(2)*x)-1))\n",
    "\n",
    "# Diffraction-limited beam size HP definition\n",
    "sp_m    = 1/(2*pi)*sqrt(2*wavelength_m*undulator_L_m)\n",
    "spp_rad =          sqrt(wavelength_m/(2*undulator_L_m))*Qa(2*pi*m*N*se)\n",
    "\n",
    "# beam size and divergence (convolution through sum of gaussian)\n",
    "Sx_m  = numpy.sqrt(sex_m**2+sp_m**2)\n",
    "Sy_m  = numpy.sqrt(sey_m**2+sp_m**2)\n",
    "Sxp_rad = numpy.sqrt(sexp_rad**2+spp_rad**2)\n",
    "Syp_rad = numpy.sqrt(seyp_rad**2+spp_rad**2)"
   ]
  },
  {
   "cell_type": "code",
   "execution_count": 45,
   "metadata": {
    "collapsed": false
   },
   "outputs": [
    {
     "name": "stdout",
     "output_type": "stream",
     "text": [
      "light source: ALS\n",
      " undulator type: COSMIC\n",
      " Undulator length: 2.052m\n",
      "  Energy (260eV)\n",
      "   beam size (x):       252.0um\n",
      "   beam size (y):       23.8um\n",
      "   beam divergence (x): 36.0urad\n",
      "   beam divergence (y): 35.0urad\n"
     ]
    }
   ],
   "source": [
    "# display information\n",
    "idx = numpy.where(ph_energy_eV==260)\n",
    "print(\"light source: \"+lightsource_name)\n",
    "print(\" undulator type: \"+undulator_name)\n",
    "print(\" Undulator length: {:.3f}m\".format(undulator_L_m,format_spec=\"3.3f\"))\n",
    "print(\"  Energy ({:.0f}eV)\".format(float(ph_energy_eV[idx]),format_spec=\"3.0f\"))\n",
    "print(\"   beam size (x):       {:.1f}um\".format(float(Sx_m[idx]*1e6),format_spec=\"3.1f\"))\n",
    "print(\"   beam size (y):       {:.1f}um\".format(float(Sy_m[idx]*1e6),format_spec=\"3.1f\"))\n",
    "print(\"   beam divergence (x): {:.1f}urad\".format(float(Sxp_rad[idx]*1e6),format_spec=\"3.1f\"))\n",
    "print(\"   beam divergence (y): {:.1f}urad\".format(float(Syp_rad[idx]*1e6),format_spec=\"3.1f\"))"
   ]
  },
  {
   "cell_type": "code",
   "execution_count": 46,
   "metadata": {
    "collapsed": false
   },
   "outputs": [
    {
     "data": {
      "image/png": "[encoded data removed]",
      "text/plain": [
       "<Figure size 432x288 with 1 Axes>"
      ]
     },
     "metadata": {},
     "output_type": "display_data"
    }
   ],
   "source": [
    "plt.cla()\n",
    "plt.plot(ph_energy_eV,Sx_m*1e6)\n",
    "plt.title(\"light source: \"+lightsource_name+ \"; undulator: \"+undulator_name )\n",
    "plt.xlabel('photon energy [eV]')\n",
    "plt.ylabel('beam size, x  [um]')\n",
    "plt.show()"
   ]
  },
  {
   "cell_type": "code",
   "execution_count": 47,
   "metadata": {
    "collapsed": false
   },
   "outputs": [
    {
     "data": {
      "image/png": "[encoded data removed]",
      "text/plain": [
       "<Figure size 432x288 with 1 Axes>"
      ]
     },
     "metadata": {},
     "output_type": "display_data"
    }
   ],
   "source": [
    "plt.cla()\n",
    "plt.plot(ph_energy_eV,Sx_m*1e6)\n",
    "plt.title(\"light source: \"+lightsource_name+ \"; undulator: \"+undulator_name )\n",
    "plt.xlabel('photon energy [eV]')\n",
    "plt.ylabel('beam size, x  [um]')\n",
    "plt.show()"
   ]
  },
  {
   "cell_type": "code",
   "execution_count": 1,
   "metadata": {
    "collapsed": false
   },
   "outputs": [
    {
     "data": {
      "text/plain": [
       "'sxu = Sx_m\\nsyu = Sy_m\\nsxup = Sxp_rad\\nsyup = Syp_rad\\n'"
      ]
     },
     "execution_count": 1,
     "metadata": {},
     "output_type": "execute_result"
    }
   ],
   "source": [
    "'''sxu = Sx_m\n",
    "syu = Sy_m\n",
    "sxup = Sxp_rad\n",
    "syup = Syp_rad\n",
    "'''"
   ]
  },
  {
   "cell_type": "code",
   "execution_count": 2,
   "metadata": {
    "collapsed": false
   },
   "outputs": [
    {
     "data": {
      "text/plain": [
       "\"\\nplt.cla()\\nax1, = plt.plot(ph_energy_eV, Syp_rad*1e6)#, ph_energy_eV,sxu*1e6)\\nax2, = plt.plot(ph_energy_eV, syup*1e6)#, ph_energy_eV,sxu*1e6)\\nplt.xlabel('photon energy [eV]')\\nplt.ylabel('beam divergence, y  [urad]')\\nplt.ylim((0,50))\\nplt.legend([ax1, ax2],['ALS', 'ALS-U'])\\nplt.title('COSMIC undulator')\\nplt.show()\\n\""
      ]
     },
     "execution_count": 2,
     "metadata": {},
     "output_type": "execute_result"
    }
   ],
   "source": [
    "'''\n",
    "plt.cla()\n",
    "ax1, = plt.plot(ph_energy_eV, Syp_rad*1e6)#, ph_energy_eV,sxu*1e6)\n",
    "ax2, = plt.plot(ph_energy_eV, syup*1e6)#, ph_energy_eV,sxu*1e6)\n",
    "plt.xlabel('photon energy [eV]')\n",
    "plt.ylabel('beam divergence, y  [urad]')\n",
    "plt.ylim((0,50))\n",
    "plt.legend([ax1, ax2],['ALS', 'ALS-U'])\n",
    "plt.title('COSMIC undulator')\n",
    "plt.show()\n",
    "'''"
   ]
  },
  {
   "cell_type": "code",
   "execution_count": 123,
   "metadata": {
    "collapsed": false
   },
   "outputs": [
    {
     "data": {
      "text/plain": [
       "Text(0.5,1,'COSMIC undulator')"
      ]
     },
     "execution_count": 123,
     "metadata": {},
     "output_type": "execute_result"
    }
   ],
   "source": [
    "'''plt.plot(ph_energy_eV, Sx_m/sxu)#, ph_energy_eV,sxu*1e6)\n",
    "plt.xlabel('photon energy [eV]')\n",
    "plt.ylabel('ALS/ALS-U horizontal beam size ratio')\n",
    "plt.ylim((0,25))\n",
    "plt.xticks((30,  250, 1000, 2500))\n",
    "plt.grid()\n",
    "plt.title('COSMIC undulator')\n",
    "#plt.savefig('ratio.png',dpi=300,transparent=True)\n",
    "plt.show()\n",
    "'''"
   ]
  },
  {
   "cell_type": "code",
   "execution_count": 129,
   "metadata": {
    "collapsed": false
   },
   "outputs": [],
   "source": [
    "#coherent fraction\n",
    "cf = 1/numpy.sqrt(\n",
    "    (1+(sex_m/sp_m)**2)*(1+(sey_m/sp_m)**2)*(1+(sexp_rad/spp_rad)**2)*(1+(seyp_rad/spp_rad)**2))"
   ]
  },
  {
   "cell_type": "code",
   "execution_count": 137,
   "metadata": {
    "collapsed": false
   },
   "outputs": [],
   "source": [
    "plt.cla()\n",
    "plt.plot(ph_energy_eV, cf)#, ph_energy_eV,sxu*1e6)\n",
    "plt.xlabel('photon energy [eV]')\n",
    "plt.ylabel('ALS-U coherent fraction')\n",
    "plt.ylim((0,1))\n",
    "plt.xticks((30,  250, 1000, 2500))\n",
    "plt.grid()\n",
    "plt.title('COSMIC undulator')\n",
    "#plt.savefig('coherent_fraction.png',dpi=300,transparent=True)\n",
    "plt.show()"
   ]
  }
 ],
 "metadata": {
  "kernelspec": {
   "display_name": "Python 3",
   "language": "python",
   "name": "python3"
  },
  "language_info": {
   "codemirror_mode": {
    "name": "ipython",
    "version": 3
   },
   "file_extension": ".py",
   "mimetype": "text/x-python",
   "name": "python",
   "nbconvert_exporter": "python",
   "pygments_lexer": "ipython3",
   "version": "3.6.0"
  }
 },
 "nbformat": 4,
 "nbformat_minor": 2
}
