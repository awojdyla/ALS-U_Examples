{
 "cells": [
  {
   "cell_type": "markdown",
   "metadata": {},
   "source": [
    "# Estimation of aberration and decomposition on a Zernike basis\n",
    "Example of use of the script [zernikes.py](https://github.com/awojdyla/ALS-U_Examples/blob/master/scripts/zernikes.py)\n",
    "\n",
    "An OASYS version is available here: [Zernikes.ows](https://github.com/awojdyla/ALS-U_Examples/blob/master/OASYS_examples/Zernikes.ows)"
   ]
  },
  {
   "cell_type": "markdown",
   "metadata": {},
   "source": [
    "## Run Shadow\n",
    "Change `oe1.X_ROT` to change the tilt of the mirror and see a change in the Zernike coefficients"
   ]
  },
  {
   "cell_type": "code",
   "execution_count": 5,
   "metadata": {
    "collapsed": true
   },
   "outputs": [],
   "source": [
    "# Python script to run shadow3. Created automatically with ShadowTools.make_python_script_from_list().\n",
    "\n",
    "import Shadow\n",
    "import numpy\n",
    "\n",
    "beam = Shadow.Beam()\n",
    "oe0 = Shadow.Source()\n",
    "oe1 = Shadow.OE()\n",
    "oe2 = Shadow.OE()\n",
    "\n",
    "oe0.FDISTR = 1\n",
    "oe0.F_COHER = 1\n",
    "oe0.F_PHOT = 0\n",
    "oe0.HDIV1 = 0.001\n",
    "oe0.HDIV2 = 0.001\n",
    "oe0.IDO_VX = 0\n",
    "oe0.IDO_VZ = 0\n",
    "oe0.IDO_X_S = 0\n",
    "oe0.IDO_Y_S = 0\n",
    "oe0.IDO_Z_S = 0\n",
    "oe0.ISTAR1 = 0\n",
    "oe0.NPOINT = 10000\n",
    "oe0.PH1 = 603.0\n",
    "oe0.SIGMAX = 0.0\n",
    "oe0.SIGMAZ = 0.0\n",
    "oe0.VDIV1 = 0.001\n",
    "oe0.VDIV2 = 0.001\n",
    "\n",
    "oe1.DUMMY = 100.0\n",
    "oe1.FHIT_C = 1\n",
    "oe1.FMIRR = 3\n",
    "oe1.FWRITE = 1\n",
    "oe1.F_MOVE = 1\n",
    "oe1.RLEN1 = 0.1\n",
    "oe1.RLEN2 = 0.1\n",
    "oe1.RWIDX1 = 0.0025\n",
    "oe1.RWIDX2 = 0.0025\n",
    "oe1.T_IMAGE = 2.2\n",
    "oe1.T_INCIDENCE = 88.5\n",
    "oe1.T_REFLECTION = 88.5\n",
    "oe1.T_SOURCE = 5.0\n",
    "oe1.X_ROT = 0.0057\n",
    "\n",
    "oe2.ALPHA = 90.0\n",
    "oe2.DUMMY = 100.0\n",
    "oe2.FWRITE = 3\n",
    "oe2.F_REFRAC = 2\n",
    "oe2.T_IMAGE = -1.0\n",
    "oe2.T_INCIDENCE = 90.0\n",
    "oe2.T_REFLECTION = 90.0\n",
    "oe2.T_SOURCE = 0.0\n",
    "\n",
    "beam.genSource(oe0)\n",
    "beam.traceOE(oe1,1)\n",
    "beam.traceOE(oe2,2)\n"
   ]
  },
  {
   "cell_type": "markdown",
   "metadata": {},
   "source": [
    "## Define the script"
   ]
  },
  {
   "cell_type": "code",
   "execution_count": 9,
   "metadata": {
    "collapsed": true
   },
   "outputs": [],
   "source": [
    "import numpy as np\n",
    "import matplotlib.pyplot as plt\n",
    "import scipy.interpolate as interpolate\n",
    "\n",
    "def zernike_projection(beam, Nx=101, Nz=101, N_zern= 8):\n",
    "\tx = beam.getshonecol(1)\n",
    "\tz = beam.getshonecol(3)\n",
    "\tpath = beam.getshonecol(13)\n",
    "\n",
    "\tx_lin = np.linspace(np.min(x), np.max(x), Nx)\n",
    "\tz_lin = np.linspace(np.min(z), np.max(z), Nx)\n",
    "\tX, Z = np.meshgrid(x_lin,z_lin)\n",
    "\twfe = interpolate.griddata((x,z),path,(X,Z),method='linear')\n",
    "\n",
    "\timport sys\n",
    "\timport numpy\n",
    "\tsys.path.insert(0,\"/Users/awojdyla/python/poppy/\")\n",
    "\n",
    "\tfrom poppy import zernike\n",
    "\t# commented import astropy and import poppy_core in poppy repo\n",
    "\n",
    "\t#4 defocus\n",
    "\tmask2 = np.where(numpy.isnan(wfe))\n",
    "\twfe_proj = wfe.copy()\n",
    "\twfe_proj[mask2] = 0\n",
    "\n",
    "\tN_Zern = 8\n",
    "\t#define an aperture for the Zernike basis (non-nans)\n",
    "\taperture = wfe.copy()*0+1\n",
    "\taperture[mask2] = 0\n",
    "\tZZ = zernike.arbitrary_basis(aperture, nterms=N_Zern, rho=None, theta=None, outside=0)\n",
    "\n",
    "\tproj = np.zeros(N_Zern)\n",
    "\tfor i in np.arange(N_Zern):\n",
    "\t    Zerni = ZZ[i,:,:]/np.sqrt(np.sum(ZZ[i,:,:]*ZZ[i,:,:]))\n",
    "\t    proj[i] = np.sum(wfe_proj*Zerni)\n",
    "\n",
    "\tproj[0]=0;\n",
    "\n",
    "\tfig = plt.stem(np.arange(N_Zern), proj*1e3)\n",
    "\tplt.title(\"Zernike projections\")\n",
    "\tplt.xlabel(\"Noll index\")\n",
    "\tplt.ylabel(\"coefficient [a.u.]\")\n",
    "\tplt.show()\n",
    "\n",
    "\treturn proj"
   ]
  },
  {
   "cell_type": "markdown",
   "metadata": {},
   "source": [
    "## Decompose onto a Zernike basis"
   ]
  },
  {
   "cell_type": "code",
   "execution_count": 10,
   "metadata": {
    "collapsed": false
   },
   "outputs": [
    {
     "data": {
      "image/png": "[encoded data removed]",
      "text/plain": [
       "<Figure size 432x288 with 1 Axes>"
      ]
     },
     "metadata": {},
     "output_type": "display_data"
    },
    {
     "data": {
      "text/plain": [
       "array([ 0.00000000e+00,  2.39081982e-05,  2.27386607e-07,  9.76459957e-05,\n",
       "        4.21357562e-08, -6.77148797e-06, -2.24870334e-07,  1.96457799e-05])"
      ]
     },
     "execution_count": 10,
     "metadata": {},
     "output_type": "execute_result"
    }
   ],
   "source": [
    "zernike_projection(beam)"
   ]
  },
  {
   "cell_type": "code",
   "execution_count": null,
   "metadata": {
    "collapsed": true
   },
   "outputs": [],
   "source": []
  }
 ],
 "metadata": {
  "kernelspec": {
   "display_name": "Python 3",
   "language": "python",
   "name": "python3"
  },
  "language_info": {
   "codemirror_mode": {
    "name": "ipython",
    "version": 3
   },
   "file_extension": ".py",
   "mimetype": "text/x-python",
   "name": "python",
   "nbconvert_exporter": "python",
   "pygments_lexer": "ipython3",
   "version": "3.6.0"
  }
 },
 "nbformat": 4,
 "nbformat_minor": 2
}
