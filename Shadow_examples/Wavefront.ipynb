{
 "cells": [
  {
   "cell_type": "markdown",
   "metadata": {},
   "source": [
    "# Determine the wavefront based on optical path\n",
    "Example of use of the script [wavefront.py](https://github.com/awojdyla/ALS-U_Examples/blob/master/scripts/wavefront.py)\n",
    "\n",
    "An OASYS version is available here: [Wavefront.ows](https://github.com/awojdyla/ALS-U_Examples/blob/master/OASYS_examples/Wavefront.ows)"
   ]
  },
  {
   "cell_type": "code",
   "execution_count": null,
   "metadata": {
    "collapsed": true
   },
   "outputs": [],
   "source": []
  },
  {
   "cell_type": "code",
   "execution_count": null,
   "metadata": {
    "collapsed": true
   },
   "outputs": [],
   "source": []
  },
  {
   "cell_type": "markdown",
   "metadata": {},
   "source": [
    "## Run Shadow"
   ]
  },
  {
   "cell_type": "code",
   "execution_count": 1,
   "metadata": {
    "collapsed": true
   },
   "outputs": [],
   "source": [
    "# Python script to run shadow3. Created automatically with ShadowTools.make_python_script_from_list().\n",
    "\n",
    "import Shadow\n",
    "import numpy\n",
    "\n",
    "beam = Shadow.Beam()\n",
    "oe0 = Shadow.Source()\n",
    "oe1 = Shadow.OE()\n",
    "oe2 = Shadow.OE()\n",
    "\n",
    "oe0.FDISTR = 1\n",
    "oe0.F_COHER = 1\n",
    "oe0.F_PHOT = 0\n",
    "oe0.HDIV1 = 0.001\n",
    "oe0.HDIV2 = 0.001\n",
    "oe0.IDO_VX = 0\n",
    "oe0.IDO_VZ = 0\n",
    "oe0.IDO_X_S = 0\n",
    "oe0.IDO_Y_S = 0\n",
    "oe0.IDO_Z_S = 0\n",
    "oe0.ISTAR1 = 0\n",
    "oe0.NPOINT = 10000\n",
    "oe0.PH1 = 603.0\n",
    "oe0.SIGMAX = 0.0\n",
    "oe0.SIGMAZ = 0.0\n",
    "oe0.VDIV1 = 0.001\n",
    "oe0.VDIV2 = 0.001\n",
    "\n",
    "oe1.DUMMY = 100.0\n",
    "oe1.FHIT_C = 1\n",
    "oe1.FMIRR = 3\n",
    "oe1.FWRITE = 1\n",
    "oe1.F_MOVE = 1\n",
    "oe1.RLEN1 = 0.1\n",
    "oe1.RLEN2 = 0.1\n",
    "oe1.RWIDX1 = 0.0025\n",
    "oe1.RWIDX2 = 0.0025\n",
    "oe1.T_IMAGE = 2.2\n",
    "oe1.T_INCIDENCE = 88.5\n",
    "oe1.T_REFLECTION = 88.5\n",
    "oe1.T_SOURCE = 5.0\n",
    "oe1.X_ROT = 0.0057\n",
    "\n",
    "oe2.ALPHA = 90.0\n",
    "oe2.DUMMY = 100.0\n",
    "oe2.FWRITE = 3\n",
    "oe2.F_REFRAC = 2\n",
    "oe2.T_IMAGE = -1.0\n",
    "oe2.T_INCIDENCE = 90.0\n",
    "oe2.T_REFLECTION = 90.0\n",
    "oe2.T_SOURCE = 0.0\n",
    "\n",
    "beam.genSource(oe0)\n",
    "beam.traceOE(oe1,1)\n",
    "beam.traceOE(oe2,2)\n"
   ]
  },
  {
   "cell_type": "markdown",
   "metadata": {},
   "source": [
    "## Retrieve the wavefront"
   ]
  },
  {
   "cell_type": "code",
   "execution_count": 3,
   "metadata": {
    "collapsed": true
   },
   "outputs": [],
   "source": [
    "import Shadow\n",
    "import numpy as np\n",
    "import matplotlib.pyplot as plt\n",
    "import scipy.interpolate as interpolate\n",
    "\n",
    "def display_wavefront(beam, Nx=101, Nz=101):\n",
    "\t# get the rays and their optical path\n",
    "\tx1 = beam.getshonecol(1)\n",
    "\tz1 = beam.getshonecol(3)\n",
    "\tpath1 = beam.getshonecol(13)\n",
    "\n",
    "\t# resampling the OPD on a constant grid\n",
    "\tx_lin = np.linspace(np.min(x1), np.max(x1), Nx)\n",
    "\tz_lin = np.linspace(np.min(z1), np.max(z1), Nx)\n",
    "\tX, Z = np.meshgrid(x_lin,z_lin)\n",
    "\twfe1 = interpolate.griddata((x1,z1),path1,(X,Z),method='linear')\n",
    "\n",
    "\t#removal pf piston\n",
    "\twfe_um = (wfe1-np.nanmean(wfe1))*1e6\n",
    "\n",
    "\t# scale factor for plotting display\n",
    "\tscalefactor = 1E3\n",
    "\tplt.imshow(wfe_um,extent=(X[0,0]*scalefactor,X[0,-1]*scalefactor,Z[-1,0]*scalefactor,Z[0,0]*scalefactor))\n",
    "\tplt.title(\"Wavefront, from optical path [um]\")\n",
    "\tplt.xlabel(\"X position [mm]\")\n",
    "\tplt.ylabel(\"Z position [mm]\")\n",
    "\tplt.colorbar()\n",
    "\tplt.set_cmap('plasma')\n",
    "\tplt.show()\n",
    "\n",
    "\t# send the object, for later\n",
    "\treturn wfe_um"
   ]
  },
  {
   "cell_type": "markdown",
   "metadata": {},
   "source": [
    "## Display the wavefront"
   ]
  },
  {
   "cell_type": "code",
   "execution_count": 5,
   "metadata": {
    "collapsed": false
   },
   "outputs": [
    {
     "data": {
      "image/png": "[encoded data removed]",
      "text/plain": [
       "<Figure size 432x288 with 2 Axes>"
      ]
     },
     "metadata": {},
     "output_type": "display_data"
    }
   ],
   "source": [
    "_ = display_wavefront(beam)"
   ]
  },
  {
   "cell_type": "code",
   "execution_count": null,
   "metadata": {
    "collapsed": true
   },
   "outputs": [],
   "source": []
  }
 ],
 "metadata": {
  "kernelspec": {
   "display_name": "Python 3",
   "language": "python",
   "name": "python3"
  },
  "language_info": {
   "codemirror_mode": {
    "name": "ipython",
    "version": 3
   },
   "file_extension": ".py",
   "mimetype": "text/x-python",
   "name": "python",
   "nbconvert_exporter": "python",
   "pygments_lexer": "ipython3",
   "version": "3.6.0"
  }
 },
 "nbformat": 4,
 "nbformat_minor": 2
}
