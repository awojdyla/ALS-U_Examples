{
 "cells": [
  {
   "cell_type": "markdown",
   "metadata": {},
   "source": [
    "# Study of wavefront sensitivity over fine alignment"
   ]
  },
  {
   "cell_type": "markdown",
   "metadata": {
    "collapsed": true
   },
   "source": [
    "We are using the code given by Oasys to estimate the sensitivity over fine alignment for a toroid.\n",
    "See ALS-U_Examples/ for OASYS simulations"
   ]
  },
  {
   "cell_type": "code",
   "execution_count": 1,
   "metadata": {
    "collapsed": true
   },
   "outputs": [],
   "source": [
    "import Shadow\n",
    "import numpy"
   ]
  },
  {
   "cell_type": "code",
   "execution_count": 2,
   "metadata": {
    "collapsed": true
   },
   "outputs": [],
   "source": [
    "iwrite = 0\n",
    "\n",
    "beam = Shadow.Beam()\n",
    "oe0 = Shadow.Source()\n",
    "oe1 = Shadow.OE()\n",
    "oe2 = Shadow.OE()\n",
    "\n",
    "# Define variables. See meaning of variables in: \n",
    "oe0.FDISTR = 1\n",
    "oe0.F_PHOT = 0\n",
    "oe0.HDIV1 = 0.001\n",
    "oe0.HDIV2 = 0.001\n",
    "oe0.IDO_VX = 0\n",
    "oe0.IDO_VZ = 0\n",
    "oe0.IDO_X_S = 0\n",
    "oe0.IDO_Y_S = 0\n",
    "oe0.IDO_Z_S = 0\n",
    "oe0.ISTAR1 = 0\n",
    "oe0.NPOINT = 1000\n",
    "oe0.PH1 = 603.0\n",
    "oe0.SIGMAX = 0.0\n",
    "oe0.SIGMAZ = 0.0\n",
    "oe0.VDIV1 = 0.001\n",
    "oe0.VDIV2 = 0.001\n",
    "\n",
    "oe1.DUMMY = 100.0\n",
    "oe1.FHIT_C = 1\n",
    "oe1.FMIRR = 3\n",
    "oe1.FWRITE = 1\n",
    "oe1.F_MOVE = 1\n",
    "oe1.RLEN1 = 0.1\n",
    "oe1.RLEN2 = 0.1\n",
    "oe1.RWIDX1 = 0.0025\n",
    "oe1.RWIDX2 = 0.0025\n",
    "oe1.T_IMAGE = 2.2\n",
    "oe1.T_INCIDENCE = 88.5\n",
    "oe1.T_REFLECTION = 88.5\n",
    "oe1.T_SOURCE = 5.0\n",
    "\n",
    "oe2.ALPHA = 90.0\n",
    "oe2.DUMMY = 100.0\n",
    "oe2.FWRITE = 3\n",
    "oe2.F_REFRAC = 2\n",
    "oe2.T_IMAGE = -1.0\n",
    "oe2.T_INCIDENCE = 90.0\n",
    "oe2.T_REFLECTION = 90.0\n",
    "oe2.T_SOURCE = 0.0"
   ]
  },
  {
   "cell_type": "markdown",
   "metadata": {},
   "source": [
    "## Running one simulation with 1mrad tilt along X"
   ]
  },
  {
   "cell_type": "code",
   "execution_count": 3,
   "metadata": {
    "collapsed": false
   },
   "outputs": [],
   "source": [
    "# what matters:\n",
    "oe1.X_ROT = 0.057\n",
    "\n",
    "#Run SHADOW to create the source\n",
    "if iwrite:\n",
    "    oe0.write(\"start.00\")\n",
    "\n",
    "beam.genSource(oe0)\n",
    "\n",
    "if iwrite:\n",
    "    oe0.write(\"end.00\")\n",
    "    beam.write(\"begin.dat\")\n",
    "\n",
    "#run optical element 1\n",
    "if iwrite:\n",
    "    oe1.write(\"start.01\")\n",
    "beam.traceOE(oe1,1)\n",
    "if iwrite:\n",
    "    oe1.write(\"end.01\")\n",
    "    beam.write(\"star.01\")\n",
    "\n",
    "#run optical element 2\n",
    "if iwrite:\n",
    "    oe2.write(\"start.02\")\n",
    "beam.traceOE(oe2,2)\n",
    "if iwrite:\n",
    "    oe2.write(\"end.02\")\n",
    "    beam.write(\"star.02\")\n",
    "\n",
    "# Dunno how to use this\n",
    "#Shadow.ShadowTools.plotxy(beam,1,3,nbins=101,nolost=1,title=\"Real space\")    "
   ]
  },
  {
   "cell_type": "markdown",
   "metadata": {},
   "source": [
    "## Retrieving optical path and projecting it on a Zernike basis"
   ]
  },
  {
   "cell_type": "code",
   "execution_count": 4,
   "metadata": {
    "collapsed": false
   },
   "outputs": [
    {
     "data": {
      "image/png": "[encoded data removed]",
      "text/plain": [
       "<Figure size 432x288 with 1 Axes>"
      ]
     },
     "metadata": {},
     "output_type": "display_data"
    }
   ],
   "source": [
    "import matplotlib.pyplot as plt\n",
    "import scipy.interpolate as interpolate\n",
    "\n",
    "x = beam.getshonecol(1)\n",
    "z = beam.getshonecol(3)\n",
    "path = beam.getshonecol(13)\n",
    "\n",
    "Nx = 101\n",
    "Nz = Nx\n",
    "x_lin = numpy.linspace(numpy.min(x), numpy.max(x), Nx)\n",
    "z_lin = numpy.linspace(numpy.min(z), numpy.max(z), Nx)\n",
    "X, Z = numpy.meshgrid(x_lin,z_lin)\n",
    "wfe = interpolate.griddata((x,z),path,(X,Z),method='linear')\n",
    "\n",
    "import sys\n",
    "import numpy\n",
    "\n",
    "# commented import astropy and import poppy_core in poppy repo\n",
    "sys.path.insert(0,\"/Users/awojdyla/python/poppy/\")\n",
    "from poppy import zernike\n",
    "\n",
    "#4 defocus\n",
    "mask2 = numpy.where(numpy.isnan(wfe))\n",
    "wfe_proj = wfe.copy()\n",
    "wfe_proj[mask2] = 0\n",
    "\n",
    "N_Zern = 8\n",
    "#define an aperture for the Zernike basis (non-nans)\n",
    "aperture = wfe.copy()*0+1\n",
    "aperture[mask2] = 0\n",
    "ZZ = zernike.arbitrary_basis(aperture, nterms=N_Zern, rho=None, theta=None, outside=0)\n",
    "\n",
    "proj = numpy.zeros(N_Zern)\n",
    "for i in numpy.arange(N_Zern):\n",
    "    Zerni = ZZ[i,:,:]/numpy.sqrt(numpy.sum(ZZ[i,:,:]*ZZ[i,:,:]))\n",
    "    proj[i] = numpy.sum(wfe_proj*Zerni)\n",
    "\n",
    "proj[0]=0;\n",
    "\n",
    "plt.stem(numpy.arange(N_Zern), proj)\n",
    "plt.title(\"Zernike projections\")\n",
    "plt.show()"
   ]
  },
  {
   "cell_type": "markdown",
   "metadata": {},
   "source": [
    "## Looping over the tilt angle"
   ]
  },
  {
   "cell_type": "code",
   "execution_count": 5,
   "metadata": {
    "collapsed": true
   },
   "outputs": [],
   "source": [
    "import numpy\n",
    "import matplotlib.pyplot as plt\n",
    "import scipy.interpolate as interpolate"
   ]
  },
  {
   "cell_type": "code",
   "execution_count": 6,
   "metadata": {
    "collapsed": false
   },
   "outputs": [],
   "source": [
    "# some useful functions\n",
    "def run_shadow_tilt(tilt_deg):\n",
    "    iwrite = 0\n",
    "\n",
    "    beam = Shadow.Beam()\n",
    "    oe0 = Shadow.Source()\n",
    "    oe1 = Shadow.OE()\n",
    "    oe2 = Shadow.OE()\n",
    "\n",
    "    # Define variables. See meaning of variables in: \n",
    "    oe0.FDISTR = 1\n",
    "    oe0.F_PHOT = 0\n",
    "    oe0.HDIV1 = 0.001\n",
    "    oe0.HDIV2 = 0.001\n",
    "    oe0.IDO_VX = 0\n",
    "    oe0.IDO_VZ = 0\n",
    "    oe0.IDO_X_S = 0\n",
    "    oe0.IDO_Y_S = 0\n",
    "    oe0.IDO_Z_S = 0\n",
    "    oe0.ISTAR1 = 0\n",
    "    oe0.NPOINT = 1000\n",
    "    oe0.PH1 = 603.0\n",
    "    oe0.SIGMAX = 0.0\n",
    "    oe0.SIGMAZ = 0.0\n",
    "    oe0.VDIV1 = 0.001\n",
    "    oe0.VDIV2 = 0.001\n",
    "\n",
    "    oe1.DUMMY = 100.0\n",
    "    oe1.FHIT_C = 1\n",
    "    oe1.FMIRR = 3\n",
    "    oe1.FWRITE = 1\n",
    "    oe1.F_MOVE = 1\n",
    "    oe1.RLEN1 = 0.1\n",
    "    oe1.RLEN2 = 0.1\n",
    "    oe1.RWIDX1 = 0.0025\n",
    "    oe1.RWIDX2 = 0.0025\n",
    "    oe1.T_IMAGE = 2.2\n",
    "    oe1.T_INCIDENCE = 88.5\n",
    "    oe1.T_REFLECTION = 88.5\n",
    "    oe1.T_SOURCE = 5.0\n",
    "\n",
    "    oe2.ALPHA = 90.0\n",
    "    oe2.DUMMY = 100.0\n",
    "    oe2.FWRITE = 3\n",
    "    oe2.F_REFRAC = 2\n",
    "    oe2.T_IMAGE = -1.0\n",
    "    oe2.T_INCIDENCE = 90.0\n",
    "    oe2.T_REFLECTION = 90.0\n",
    "    oe2.T_SOURCE = 0.0\n",
    "    # what matters:\n",
    "    oe1.X_ROT = tilt_deg\n",
    "\n",
    "    #Run SHADOW to create the source\n",
    "    if iwrite:\n",
    "        oe0.write(\"start.00\")\n",
    "\n",
    "    beam.genSource(oe0)\n",
    "\n",
    "    if iwrite:\n",
    "        oe0.write(\"end.00\")\n",
    "        beam.write(\"begin.dat\")\n",
    "\n",
    "    #run optical element 1\n",
    "    #print(\"    Running optical element: %d\"%(1))\n",
    "    if iwrite:\n",
    "        oe1.write(\"start.01\")\n",
    "    beam.traceOE(oe1,1)\n",
    "    if iwrite:\n",
    "        oe1.write(\"end.01\")\n",
    "        beam.write(\"star.01\")\n",
    "\n",
    "    #run optical element 2\n",
    "    #print(\"    Running optical element: %d\"%(2))\n",
    "    if iwrite:\n",
    "        oe2.write(\"start.02\")\n",
    "    beam.traceOE(oe2,2)\n",
    "    if iwrite:\n",
    "        oe2.write(\"end.02\")\n",
    "        beam.write(\"star.02\")\n",
    "        \n",
    "    return beam\n",
    "        \n",
    "def get_zerniked_decomp(beam):\n",
    "    import numpy\n",
    "    x = beam.getshonecol(1)\n",
    "    z = beam.getshonecol(3)\n",
    "    path = beam.getshonecol(13)\n",
    "\n",
    "    Nx = 101\n",
    "    Nz = Nx\n",
    "    x_lin = numpy.linspace(numpy.min(x), numpy.max(x), Nx)\n",
    "    z_lin = numpy.linspace(numpy.min(z), numpy.max(z), Nx)\n",
    "    X, Z = numpy.meshgrid(x_lin,z_lin)\n",
    "    wfe = interpolate.griddata((x,z),path,(X,Z),method='linear')\n",
    "\n",
    "    import sys\n",
    "    import numpy\n",
    "    #sys.path.insert(0,\"/Users/awojdyla/python/poppy/\")\n",
    "\n",
    "    from poppy import zernike\n",
    "    # commented import astropy and import poppy_core in poppy repo\n",
    "\n",
    "    #4 defocus\n",
    "    mask2 = numpy.where(numpy.isnan(wfe))\n",
    "    wfe_proj = wfe.copy()\n",
    "    wfe_proj[mask2] = 0\n",
    "\n",
    "    N_Zern = 9\n",
    "    #define an aperture for the Zernike basis (non-nans)\n",
    "    aperture = wfe.copy()*0+1\n",
    "    aperture[mask2] = 0\n",
    "    ZZ = zernike.arbitrary_basis(aperture, nterms=N_Zern, rho=None, theta=None, outside=0)\n",
    "\n",
    "    proj = numpy.zeros(N_Zern)\n",
    "    for i in numpy.arange(N_Zern):\n",
    "        Zerni = ZZ[i,:,:]/numpy.sqrt(numpy.sum(ZZ[i,:,:]*ZZ[i,:,:]))\n",
    "        proj[i] = numpy.sum(wfe_proj*Zerni)\n",
    "\n",
    "    proj[0]=0;\n",
    "\n",
    "    #plt.stem(numpy.arange(N_Zern), proj)\n",
    "    #plt.title(\"Zernike projections\")\n",
    "    #plt.show()\n",
    "\n",
    "    return proj"
   ]
  },
  {
   "cell_type": "markdown",
   "metadata": {},
   "source": [
    "#### Run the many simulations"
   ]
  },
  {
   "cell_type": "code",
   "execution_count": 7,
   "metadata": {
    "collapsed": false
   },
   "outputs": [],
   "source": [
    "N_t = 21 # number of tilt angles\n",
    "N_z = 9   # number of Zernike coefficients\n",
    "proj = numpy.zeros((N_t, N_z))               \n",
    "for i in numpy.arange(N_t):\n",
    "    tilt_deg = 1e-3*180/numpy.pi*(i-(N_t-1)/2)/10\n",
    "    beam = run_shadow_tilt(tilt_deg)\n",
    "    proj[i,:] = get_zerniked_decomp(beam)"
   ]
  },
  {
   "cell_type": "markdown",
   "metadata": {},
   "source": [
    "#### Display coefficients"
   ]
  },
  {
   "cell_type": "code",
   "execution_count": 11,
   "metadata": {
    "collapsed": false
   },
   "outputs": [
    {
     "data": {
      "image/png": "[encoded data removed]",
      "text/plain": [
       "<Figure size 432x288 with 1 Axes>"
      ]
     },
     "metadata": {},
     "output_type": "display_data"
    }
   ],
   "source": [
    "idx = 4 # choose your coefficient; 0: piston, 1:tilt x, 2: tilt y, 3: defocus, 4: atigmatism, 5: obl. ast., 6: coma H\n",
    "plt.plot(numpy.linspace(-1,1,21),proj[:,idx]*1000)\n",
    "plt.xlabel('tilt [mrad]')\n",
    "plt.ylabel('coefficient strength')\n",
    "plt.title('coefficient '+str(idx))\n",
    "plt.ylim((-0.05,0.05))\n",
    "plt.show()\n"
   ]
  },
  {
   "cell_type": "markdown",
   "metadata": {},
   "source": [
    "#### display individual Zernike component (for sanity check)"
   ]
  },
  {
   "cell_type": "code",
   "execution_count": 9,
   "metadata": {
    "collapsed": true
   },
   "outputs": [],
   "source": [
    "def components(beam, N_i):\n",
    "    import numpy\n",
    "    x = beam.getshonecol(1)\n",
    "    z = beam.getshonecol(3)\n",
    "    path = beam.getshonecol(13)\n",
    "\n",
    "    Nx = 101\n",
    "    Nz = Nx\n",
    "    x_lin = numpy.linspace(numpy.min(x), numpy.max(x), Nx)\n",
    "    z_lin = numpy.linspace(numpy.min(z), numpy.max(z), Nx)\n",
    "    X, Z = numpy.meshgrid(x_lin,z_lin)\n",
    "    wfe = interpolate.griddata((x,z),path,(X,Z),method='linear')\n",
    "\n",
    "    import sys\n",
    "    import numpy\n",
    "    #sys.path.insert(0,\"/Users/awojdyla/python/poppy/\")\n",
    "\n",
    "    from poppy import zernike\n",
    "    # commented import astropy and import poppy_core in poppy repo\n",
    "\n",
    "    #4 defocus\n",
    "    mask2 = numpy.where(numpy.isnan(wfe))\n",
    "    wfe_proj = wfe.copy()\n",
    "    wfe_proj[mask2] = 0\n",
    "\n",
    "    N_Zern = 8\n",
    "    #define an aperture for the Zernike basis (non-nans)\n",
    "    aperture = wfe.copy()*0+1\n",
    "    aperture[mask2] = 0\n",
    "    ZZ = zernike.arbitrary_basis(aperture, nterms=N_Zern, rho=None, theta=None, outside=0)\n",
    "\n",
    "    return ZZ[N_i,:,:]/numpy.sqrt(numpy.sum(ZZ[N_i,:,:]*ZZ[N_i,:,:]))"
   ]
  },
  {
   "cell_type": "code",
   "execution_count": 10,
   "metadata": {
    "collapsed": false
   },
   "outputs": [
    {
     "data": {
      "image/png": "[encoded data removed]",
      "text/plain": [
       "<Figure size 432x288 with 1 Axes>"
      ]
     },
     "metadata": {},
     "output_type": "display_data"
    }
   ],
   "source": [
    "plt.imshow(components(beam,6))\n",
    "plt.show()"
   ]
  },
  {
   "cell_type": "code",
   "execution_count": null,
   "metadata": {
    "collapsed": true
   },
   "outputs": [],
   "source": []
  }
 ],
 "metadata": {
  "kernelspec": {
   "display_name": "Python 3",
   "language": "python",
   "name": "python3"
  },
  "language_info": {
   "codemirror_mode": {
    "name": "ipython",
    "version": 3
   },
   "file_extension": ".py",
   "mimetype": "text/x-python",
   "name": "python",
   "nbconvert_exporter": "python",
   "pygments_lexer": "ipython3",
   "version": "3.6.0"
  }
 },
 "nbformat": 4,
 "nbformat_minor": 2
}
